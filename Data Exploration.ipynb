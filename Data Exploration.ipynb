{
 "cells": [
  {
   "cell_type": "code",
   "execution_count": 1,
   "metadata": {
    "collapsed": true
   },
   "outputs": [],
   "source": [
    "import sys\n",
    "import pickle\n",
    "import csv\n",
    "import pandas as pd\n",
    "from ggplot import *\n",
    "%matplotlib inline"
   ]
  },
  {
   "cell_type": "code",
   "execution_count": 2,
   "metadata": {
    "collapsed": true
   },
   "outputs": [],
   "source": [
    "sys.path.append(\"./tools\")\n",
    "sys.path.append(\"./final_project\")"
   ]
  },
  {
   "cell_type": "code",
   "execution_count": 3,
   "metadata": {
    "collapsed": true
   },
   "outputs": [],
   "source": [
    "from util import create_csv"
   ]
  },
  {
   "cell_type": "code",
   "execution_count": 4,
   "metadata": {
    "collapsed": true
   },
   "outputs": [],
   "source": [
    "with open(\"final_project/final_project_dataset.pkl\", \"r\") as data_file:\n",
    "    data_dict = pickle.load(data_file)"
   ]
  },
  {
   "cell_type": "code",
   "execution_count": 5,
   "metadata": {
    "collapsed": true
   },
   "outputs": [],
   "source": [
    "create_csv(data_dict, \"final_project/final_project_data.csv\")"
   ]
  },
  {
   "cell_type": "code",
   "execution_count": 6,
   "metadata": {
    "collapsed": true
   },
   "outputs": [],
   "source": [
    "data = pd.read_csv(\"final_project/final_project_data.csv\")"
   ]
  },
  {
   "cell_type": "code",
   "execution_count": 7,
   "metadata": {
    "collapsed": false
   },
   "outputs": [
    {
     "data": {
      "text/plain": [
       "(146, 22)"
      ]
     },
     "execution_count": 7,
     "metadata": {},
     "output_type": "execute_result"
    }
   ],
   "source": [
    "data.shape"
   ]
  },
  {
   "cell_type": "code",
   "execution_count": 8,
   "metadata": {
    "collapsed": false
   },
   "outputs": [
    {
     "data": {
      "text/html": [
       "<div>\n",
       "<table border=\"1\" class=\"dataframe\">\n",
       "  <thead>\n",
       "    <tr style=\"text-align: right;\">\n",
       "      <th></th>\n",
       "      <th>to_messages</th>\n",
       "      <th>deferral_payments</th>\n",
       "      <th>expenses</th>\n",
       "      <th>poi</th>\n",
       "      <th>long_term_incentive</th>\n",
       "      <th>email_address</th>\n",
       "      <th>from_poi_to_this_person</th>\n",
       "      <th>deferred_income</th>\n",
       "      <th>restricted_stock_deferred</th>\n",
       "      <th>shared_receipt_with_poi</th>\n",
       "      <th>...</th>\n",
       "      <th>other</th>\n",
       "      <th>director_fees</th>\n",
       "      <th>bonus</th>\n",
       "      <th>total_stock_value</th>\n",
       "      <th>from_this_person_to_poi</th>\n",
       "      <th>restricted_stock</th>\n",
       "      <th>salary</th>\n",
       "      <th>name</th>\n",
       "      <th>total_payments</th>\n",
       "      <th>exercised_stock_options</th>\n",
       "    </tr>\n",
       "  </thead>\n",
       "  <tbody>\n",
       "    <tr>\n",
       "      <th>0</th>\n",
       "      <td>807.0</td>\n",
       "      <td>NaN</td>\n",
       "      <td>94299.0</td>\n",
       "      <td>False</td>\n",
       "      <td>NaN</td>\n",
       "      <td>mark.metts@enron.com</td>\n",
       "      <td>38.0</td>\n",
       "      <td>NaN</td>\n",
       "      <td>NaN</td>\n",
       "      <td>702.0</td>\n",
       "      <td>...</td>\n",
       "      <td>1740.0</td>\n",
       "      <td>NaN</td>\n",
       "      <td>600000.0</td>\n",
       "      <td>585062.0</td>\n",
       "      <td>1.0</td>\n",
       "      <td>585062.0</td>\n",
       "      <td>365788.0</td>\n",
       "      <td>METTS MARK</td>\n",
       "      <td>1061827.0</td>\n",
       "      <td>NaN</td>\n",
       "    </tr>\n",
       "    <tr>\n",
       "      <th>1</th>\n",
       "      <td>NaN</td>\n",
       "      <td>1295738.0</td>\n",
       "      <td>11200.0</td>\n",
       "      <td>False</td>\n",
       "      <td>1586055.0</td>\n",
       "      <td>NaN</td>\n",
       "      <td>NaN</td>\n",
       "      <td>-1386055.0</td>\n",
       "      <td>NaN</td>\n",
       "      <td>NaN</td>\n",
       "      <td>...</td>\n",
       "      <td>2660303.0</td>\n",
       "      <td>NaN</td>\n",
       "      <td>1200000.0</td>\n",
       "      <td>10623258.0</td>\n",
       "      <td>NaN</td>\n",
       "      <td>3942714.0</td>\n",
       "      <td>267102.0</td>\n",
       "      <td>BAXTER JOHN C</td>\n",
       "      <td>5634343.0</td>\n",
       "      <td>6680544.0</td>\n",
       "    </tr>\n",
       "    <tr>\n",
       "      <th>2</th>\n",
       "      <td>NaN</td>\n",
       "      <td>NaN</td>\n",
       "      <td>78552.0</td>\n",
       "      <td>False</td>\n",
       "      <td>NaN</td>\n",
       "      <td>steven.elliott@enron.com</td>\n",
       "      <td>NaN</td>\n",
       "      <td>-400729.0</td>\n",
       "      <td>NaN</td>\n",
       "      <td>NaN</td>\n",
       "      <td>...</td>\n",
       "      <td>12961.0</td>\n",
       "      <td>NaN</td>\n",
       "      <td>350000.0</td>\n",
       "      <td>6678735.0</td>\n",
       "      <td>NaN</td>\n",
       "      <td>1788391.0</td>\n",
       "      <td>170941.0</td>\n",
       "      <td>ELLIOTT STEVEN</td>\n",
       "      <td>211725.0</td>\n",
       "      <td>4890344.0</td>\n",
       "    </tr>\n",
       "    <tr>\n",
       "      <th>3</th>\n",
       "      <td>764.0</td>\n",
       "      <td>NaN</td>\n",
       "      <td>NaN</td>\n",
       "      <td>False</td>\n",
       "      <td>NaN</td>\n",
       "      <td>bill.cordes@enron.com</td>\n",
       "      <td>10.0</td>\n",
       "      <td>NaN</td>\n",
       "      <td>NaN</td>\n",
       "      <td>58.0</td>\n",
       "      <td>...</td>\n",
       "      <td>NaN</td>\n",
       "      <td>NaN</td>\n",
       "      <td>NaN</td>\n",
       "      <td>1038185.0</td>\n",
       "      <td>0.0</td>\n",
       "      <td>386335.0</td>\n",
       "      <td>NaN</td>\n",
       "      <td>CORDES WILLIAM R</td>\n",
       "      <td>NaN</td>\n",
       "      <td>651850.0</td>\n",
       "    </tr>\n",
       "    <tr>\n",
       "      <th>4</th>\n",
       "      <td>1045.0</td>\n",
       "      <td>NaN</td>\n",
       "      <td>34039.0</td>\n",
       "      <td>True</td>\n",
       "      <td>1617011.0</td>\n",
       "      <td>kevin.hannon@enron.com</td>\n",
       "      <td>32.0</td>\n",
       "      <td>-3117011.0</td>\n",
       "      <td>NaN</td>\n",
       "      <td>1035.0</td>\n",
       "      <td>...</td>\n",
       "      <td>11350.0</td>\n",
       "      <td>NaN</td>\n",
       "      <td>1500000.0</td>\n",
       "      <td>6391065.0</td>\n",
       "      <td>21.0</td>\n",
       "      <td>853064.0</td>\n",
       "      <td>243293.0</td>\n",
       "      <td>HANNON KEVIN P</td>\n",
       "      <td>288682.0</td>\n",
       "      <td>5538001.0</td>\n",
       "    </tr>\n",
       "  </tbody>\n",
       "</table>\n",
       "<p>5 rows × 22 columns</p>\n",
       "</div>"
      ],
      "text/plain": [
       "   to_messages  deferral_payments  expenses    poi  long_term_incentive  \\\n",
       "0        807.0                NaN   94299.0  False                  NaN   \n",
       "1          NaN          1295738.0   11200.0  False            1586055.0   \n",
       "2          NaN                NaN   78552.0  False                  NaN   \n",
       "3        764.0                NaN       NaN  False                  NaN   \n",
       "4       1045.0                NaN   34039.0   True            1617011.0   \n",
       "\n",
       "              email_address  from_poi_to_this_person  deferred_income  \\\n",
       "0      mark.metts@enron.com                     38.0              NaN   \n",
       "1                       NaN                      NaN       -1386055.0   \n",
       "2  steven.elliott@enron.com                      NaN        -400729.0   \n",
       "3     bill.cordes@enron.com                     10.0              NaN   \n",
       "4    kevin.hannon@enron.com                     32.0       -3117011.0   \n",
       "\n",
       "   restricted_stock_deferred  shared_receipt_with_poi           ...            \\\n",
       "0                        NaN                    702.0           ...             \n",
       "1                        NaN                      NaN           ...             \n",
       "2                        NaN                      NaN           ...             \n",
       "3                        NaN                     58.0           ...             \n",
       "4                        NaN                   1035.0           ...             \n",
       "\n",
       "       other  director_fees      bonus  total_stock_value  \\\n",
       "0     1740.0            NaN   600000.0           585062.0   \n",
       "1  2660303.0            NaN  1200000.0         10623258.0   \n",
       "2    12961.0            NaN   350000.0          6678735.0   \n",
       "3        NaN            NaN        NaN          1038185.0   \n",
       "4    11350.0            NaN  1500000.0          6391065.0   \n",
       "\n",
       "   from_this_person_to_poi  restricted_stock    salary              name  \\\n",
       "0                      1.0          585062.0  365788.0        METTS MARK   \n",
       "1                      NaN         3942714.0  267102.0     BAXTER JOHN C   \n",
       "2                      NaN         1788391.0  170941.0    ELLIOTT STEVEN   \n",
       "3                      0.0          386335.0       NaN  CORDES WILLIAM R   \n",
       "4                     21.0          853064.0  243293.0    HANNON KEVIN P   \n",
       "\n",
       "   total_payments exercised_stock_options  \n",
       "0       1061827.0                     NaN  \n",
       "1       5634343.0               6680544.0  \n",
       "2        211725.0               4890344.0  \n",
       "3             NaN                651850.0  \n",
       "4        288682.0               5538001.0  \n",
       "\n",
       "[5 rows x 22 columns]"
      ]
     },
     "execution_count": 8,
     "metadata": {},
     "output_type": "execute_result"
    }
   ],
   "source": [
    "data.head()"
   ]
  },
  {
   "cell_type": "markdown",
   "metadata": {},
   "source": [
    "There seems to be a lot of NaN values in the data itself. Let us check how many null values are present in every column."
   ]
  },
  {
   "cell_type": "code",
   "execution_count": 9,
   "metadata": {
    "collapsed": false
   },
   "outputs": [
    {
     "data": {
      "text/plain": [
       "to_messages                   60\n",
       "deferral_payments            107\n",
       "expenses                      51\n",
       "poi                            0\n",
       "long_term_incentive           80\n",
       "email_address                 35\n",
       "from_poi_to_this_person       60\n",
       "deferred_income               97\n",
       "restricted_stock_deferred    128\n",
       "shared_receipt_with_poi       60\n",
       "loan_advances                142\n",
       "from_messages                 60\n",
       "other                         53\n",
       "director_fees                129\n",
       "bonus                         64\n",
       "total_stock_value             20\n",
       "from_this_person_to_poi       60\n",
       "restricted_stock              36\n",
       "salary                        51\n",
       "name                           0\n",
       "total_payments                21\n",
       "exercised_stock_options       44\n",
       "dtype: int64"
      ]
     },
     "execution_count": 9,
     "metadata": {},
     "output_type": "execute_result"
    }
   ],
   "source": [
    "data.isnull().sum()"
   ]
  },
  {
   "cell_type": "markdown",
   "metadata": {},
   "source": [
    "There are only 146 records in total of which 142 records have missing `loan_advances` value. There is no point including this feature in any kind of analysis. Also, `director_fees` and `restricted_stock_deferred` have a lot of missing values but these make sense in the context of data as not all employees are directors and not many people would have deferred the payment of their restricted stocks. Also, those employees who serve as director might be more susceptible to being person of interest in our context.\n",
    "\n",
    "Next, let us look at the distribution of target labels"
   ]
  },
  {
   "cell_type": "code",
   "execution_count": 10,
   "metadata": {
    "collapsed": false
   },
   "outputs": [
    {
     "name": "stdout",
     "output_type": "stream",
     "text": [
      "[(False, 128), (True, 18)]\n"
     ]
    }
   ],
   "source": [
    "from collections import Counter\n",
    "counter = Counter(data['poi'])\n",
    "print counter.most_common(2)"
   ]
  },
  {
   "cell_type": "markdown",
   "metadata": {},
   "source": [
    "There are only 18 POIs in the dataset of the total 146 individuals."
   ]
  },
  {
   "cell_type": "code",
   "execution_count": 11,
   "metadata": {
    "collapsed": false
   },
   "outputs": [
    {
     "data": {
      "image/png": "[encoded data removed]",
      "text/plain": [
       "<matplotlib.figure.Figure at 0xc2a93c8>"
      ]
     },
     "metadata": {},
     "output_type": "display_data"
    },
    {
     "data": {
      "text/plain": [
       "<ggplot: (12757333)>"
      ]
     },
     "execution_count": 11,
     "metadata": {},
     "output_type": "execute_result"
    }
   ],
   "source": [
    "ggplot(data, aes(x = 'total_payments')) + geom_histogram()"
   ]
  },
  {
   "cell_type": "markdown",
   "metadata": {},
   "source": [
    "From the above histogram, there seems to be outliers to the far right of the distribution. Let us try to identify these outliers."
   ]
  },
  {
   "cell_type": "code",
   "execution_count": 12,
   "metadata": {
    "collapsed": false
   },
   "outputs": [
    {
     "data": {
      "text/html": [
       "<div>\n",
       "<table border=\"1\" class=\"dataframe\">\n",
       "  <thead>\n",
       "    <tr style=\"text-align: right;\">\n",
       "      <th></th>\n",
       "      <th>to_messages</th>\n",
       "      <th>deferral_payments</th>\n",
       "      <th>expenses</th>\n",
       "      <th>poi</th>\n",
       "      <th>long_term_incentive</th>\n",
       "      <th>email_address</th>\n",
       "      <th>from_poi_to_this_person</th>\n",
       "      <th>deferred_income</th>\n",
       "      <th>restricted_stock_deferred</th>\n",
       "      <th>shared_receipt_with_poi</th>\n",
       "      <th>...</th>\n",
       "      <th>other</th>\n",
       "      <th>director_fees</th>\n",
       "      <th>bonus</th>\n",
       "      <th>total_stock_value</th>\n",
       "      <th>from_this_person_to_poi</th>\n",
       "      <th>restricted_stock</th>\n",
       "      <th>salary</th>\n",
       "      <th>name</th>\n",
       "      <th>total_payments</th>\n",
       "      <th>exercised_stock_options</th>\n",
       "    </tr>\n",
       "  </thead>\n",
       "  <tbody>\n",
       "    <tr>\n",
       "      <th>65</th>\n",
       "      <td>4273.0</td>\n",
       "      <td>202911.0</td>\n",
       "      <td>99832.0</td>\n",
       "      <td>True</td>\n",
       "      <td>3600000.0</td>\n",
       "      <td>kenneth.lay@enron.com</td>\n",
       "      <td>123.0</td>\n",
       "      <td>-300000.0</td>\n",
       "      <td>NaN</td>\n",
       "      <td>2411.0</td>\n",
       "      <td>...</td>\n",
       "      <td>10359729.0</td>\n",
       "      <td>NaN</td>\n",
       "      <td>7000000.0</td>\n",
       "      <td>49110078.0</td>\n",
       "      <td>16.0</td>\n",
       "      <td>14761694.0</td>\n",
       "      <td>1072321.0</td>\n",
       "      <td>LAY KENNETH L</td>\n",
       "      <td>103559793.0</td>\n",
       "      <td>34348384.0</td>\n",
       "    </tr>\n",
       "    <tr>\n",
       "      <th>104</th>\n",
       "      <td>NaN</td>\n",
       "      <td>32083396.0</td>\n",
       "      <td>5235198.0</td>\n",
       "      <td>False</td>\n",
       "      <td>48521928.0</td>\n",
       "      <td>NaN</td>\n",
       "      <td>NaN</td>\n",
       "      <td>-27992891.0</td>\n",
       "      <td>-7576788.0</td>\n",
       "      <td>NaN</td>\n",
       "      <td>...</td>\n",
       "      <td>42667589.0</td>\n",
       "      <td>1398517.0</td>\n",
       "      <td>97343619.0</td>\n",
       "      <td>434509511.0</td>\n",
       "      <td>NaN</td>\n",
       "      <td>130322299.0</td>\n",
       "      <td>26704229.0</td>\n",
       "      <td>TOTAL</td>\n",
       "      <td>309886585.0</td>\n",
       "      <td>311764000.0</td>\n",
       "    </tr>\n",
       "  </tbody>\n",
       "</table>\n",
       "<p>2 rows × 22 columns</p>\n",
       "</div>"
      ],
      "text/plain": [
       "     to_messages  deferral_payments   expenses    poi  long_term_incentive  \\\n",
       "65        4273.0           202911.0    99832.0   True            3600000.0   \n",
       "104          NaN         32083396.0  5235198.0  False           48521928.0   \n",
       "\n",
       "             email_address  from_poi_to_this_person  deferred_income  \\\n",
       "65   kenneth.lay@enron.com                    123.0        -300000.0   \n",
       "104                    NaN                      NaN      -27992891.0   \n",
       "\n",
       "     restricted_stock_deferred  shared_receipt_with_poi  \\\n",
       "65                         NaN                   2411.0   \n",
       "104                 -7576788.0                      NaN   \n",
       "\n",
       "              ...                 other  director_fees       bonus  \\\n",
       "65            ...            10359729.0            NaN   7000000.0   \n",
       "104           ...            42667589.0      1398517.0  97343619.0   \n",
       "\n",
       "     total_stock_value  from_this_person_to_poi  restricted_stock      salary  \\\n",
       "65          49110078.0                     16.0        14761694.0   1072321.0   \n",
       "104        434509511.0                      NaN       130322299.0  26704229.0   \n",
       "\n",
       "              name  total_payments exercised_stock_options  \n",
       "65   LAY KENNETH L     103559793.0              34348384.0  \n",
       "104          TOTAL     309886585.0             311764000.0  \n",
       "\n",
       "[2 rows x 22 columns]"
      ]
     },
     "execution_count": 12,
     "metadata": {},
     "output_type": "execute_result"
    }
   ],
   "source": [
    "data[data['total_payments'] > 100000000]"
   ]
  },
  {
   "cell_type": "markdown",
   "metadata": {},
   "source": [
    "From the above table, it is clear that these two data points refer to Kenneth Lay and probably a total column for all the points in the dataset given by the name 'TOTAL'. Let us remove the 'TOTAL' record from the dataset."
   ]
  },
  {
   "cell_type": "code",
   "execution_count": 13,
   "metadata": {
    "collapsed": true
   },
   "outputs": [],
   "source": [
    "data = data[data['name'] != 'TOTAL']"
   ]
  },
  {
   "cell_type": "code",
   "execution_count": 14,
   "metadata": {
    "collapsed": false
   },
   "outputs": [
    {
     "data": {
      "image/png": "[encoded data removed]",
      "text/plain": [
       "<matplotlib.figure.Figure at 0x104afef0>"
      ]
     },
     "metadata": {},
     "output_type": "display_data"
    },
    {
     "data": {
      "text/plain": [
       "<ggplot: (17084346)>"
      ]
     },
     "execution_count": 14,
     "metadata": {},
     "output_type": "execute_result"
    }
   ],
   "source": [
    "ggplot(data[data['name'] != 'LAY KENNETH L'], aes(x = 'total_payments')) + geom_histogram(bins=20)"
   ]
  },
  {
   "cell_type": "markdown",
   "metadata": {},
   "source": [
    "Even after excluding the data for 'TOTAL' and not plotting Kenneth Lay's total payments, the data for total payments is heavily right skewed.\n",
    "\n",
    "Most of the numerical features would exhibit this skewed distribution because of the data being related to employees. The higher level employees (those belonging to CXO and director level) often have salaries and other components far greater than the low-level and mid-level executives.\n",
    "\n",
    "Next let us eyeball the data for any other discrepancy that might be there in the data by opening the data in a spreadsheet."
   ]
  },
  {
   "cell_type": "markdown",
   "metadata": {},
   "source": [
    "After checking the data in the spreadsheet, we saw that there is an unusual employee in the list with `name` as 'THE TRAVEL AGENCY IN THE PARK' which does not seem to be any employee."
   ]
  },
  {
   "cell_type": "code",
   "execution_count": 15,
   "metadata": {
    "collapsed": false
   },
   "outputs": [
    {
     "data": {
      "text/html": [
       "<div>\n",
       "<table border=\"1\" class=\"dataframe\">\n",
       "  <thead>\n",
       "    <tr style=\"text-align: right;\">\n",
       "      <th></th>\n",
       "      <th>to_messages</th>\n",
       "      <th>deferral_payments</th>\n",
       "      <th>expenses</th>\n",
       "      <th>poi</th>\n",
       "      <th>long_term_incentive</th>\n",
       "      <th>email_address</th>\n",
       "      <th>from_poi_to_this_person</th>\n",
       "      <th>deferred_income</th>\n",
       "      <th>restricted_stock_deferred</th>\n",
       "      <th>shared_receipt_with_poi</th>\n",
       "      <th>...</th>\n",
       "      <th>other</th>\n",
       "      <th>director_fees</th>\n",
       "      <th>bonus</th>\n",
       "      <th>total_stock_value</th>\n",
       "      <th>from_this_person_to_poi</th>\n",
       "      <th>restricted_stock</th>\n",
       "      <th>salary</th>\n",
       "      <th>name</th>\n",
       "      <th>total_payments</th>\n",
       "      <th>exercised_stock_options</th>\n",
       "    </tr>\n",
       "  </thead>\n",
       "  <tbody>\n",
       "    <tr>\n",
       "      <th>101</th>\n",
       "      <td>NaN</td>\n",
       "      <td>NaN</td>\n",
       "      <td>NaN</td>\n",
       "      <td>False</td>\n",
       "      <td>NaN</td>\n",
       "      <td>NaN</td>\n",
       "      <td>NaN</td>\n",
       "      <td>NaN</td>\n",
       "      <td>NaN</td>\n",
       "      <td>NaN</td>\n",
       "      <td>...</td>\n",
       "      <td>362096.0</td>\n",
       "      <td>NaN</td>\n",
       "      <td>NaN</td>\n",
       "      <td>NaN</td>\n",
       "      <td>NaN</td>\n",
       "      <td>NaN</td>\n",
       "      <td>NaN</td>\n",
       "      <td>THE TRAVEL AGENCY IN THE PARK</td>\n",
       "      <td>362096.0</td>\n",
       "      <td>NaN</td>\n",
       "    </tr>\n",
       "  </tbody>\n",
       "</table>\n",
       "<p>1 rows × 22 columns</p>\n",
       "</div>"
      ],
      "text/plain": [
       "     to_messages  deferral_payments  expenses    poi  long_term_incentive  \\\n",
       "101          NaN                NaN       NaN  False                  NaN   \n",
       "\n",
       "    email_address  from_poi_to_this_person  deferred_income  \\\n",
       "101           NaN                      NaN              NaN   \n",
       "\n",
       "     restricted_stock_deferred  shared_receipt_with_poi  \\\n",
       "101                        NaN                      NaN   \n",
       "\n",
       "              ...               other  director_fees  bonus  \\\n",
       "101           ...            362096.0            NaN    NaN   \n",
       "\n",
       "     total_stock_value  from_this_person_to_poi  restricted_stock  salary  \\\n",
       "101                NaN                      NaN               NaN     NaN   \n",
       "\n",
       "                              name  total_payments exercised_stock_options  \n",
       "101  THE TRAVEL AGENCY IN THE PARK        362096.0                     NaN  \n",
       "\n",
       "[1 rows x 22 columns]"
      ]
     },
     "execution_count": 15,
     "metadata": {},
     "output_type": "execute_result"
    }
   ],
   "source": [
    "data[data['name'] == 'THE TRAVEL AGENCY IN THE PARK']"
   ]
  },
  {
   "cell_type": "markdown",
   "metadata": {},
   "source": [
    "So, in our data analysis further, we must remove this entity too from our analysis."
   ]
  }
 ],
 "metadata": {
  "kernelspec": {
   "display_name": "Python [twitter]",
   "language": "python",
   "name": "Python [twitter]"
  },
  "language_info": {
   "codemirror_mode": {
    "name": "ipython",
    "version": 2
   },
   "file_extension": ".py",
   "mimetype": "text/x-python",
   "name": "python",
   "nbconvert_exporter": "python",
   "pygments_lexer": "ipython2",
   "version": "2.7.12"
  }
 },
 "nbformat": 4,
 "nbformat_minor": 0
}

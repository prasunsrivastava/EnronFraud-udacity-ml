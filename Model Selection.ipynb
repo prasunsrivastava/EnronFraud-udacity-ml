{
 "cells": [
  {
   "cell_type": "code",
   "execution_count": 1,
   "metadata": {
    "collapsed": true
   },
   "outputs": [],
   "source": [
    "import numpy as np\n",
    "import matplotlib.pyplot as plt\n",
    "import sys\n",
    "import pickle\n",
    "import matplotlib.pyplot as plt\n",
    "%matplotlib inline"
   ]
  },
  {
   "cell_type": "code",
   "execution_count": 2,
   "metadata": {
    "collapsed": false
   },
   "outputs": [],
   "source": [
    "from sklearn.linear_model import LogisticRegression\n",
    "from sklearn.metrics import precision_score, recall_score, f1_score, confusion_matrix, classification_report, make_scorer\n",
    "from sklearn.grid_search import GridSearchCV\n",
    "from sklearn.preprocessing import StandardScaler\n",
    "from sklearn.pipeline import Pipeline, make_pipeline\n",
    "from sklearn.feature_selection import SelectKBest, chi2, SelectFromModel\n",
    "from sklearn.cross_validation import cross_val_score, StratifiedKFold"
   ]
  },
  {
   "cell_type": "code",
   "execution_count": 3,
   "metadata": {
    "collapsed": false
   },
   "outputs": [],
   "source": [
    "from copy import deepcopy"
   ]
  },
  {
   "cell_type": "code",
   "execution_count": 4,
   "metadata": {
    "collapsed": true
   },
   "outputs": [],
   "source": [
    "sys.path.append(\"./tools\")\n",
    "sys.path.append(\"./final_project\")"
   ]
  },
  {
   "cell_type": "code",
   "execution_count": 5,
   "metadata": {
    "collapsed": false
   },
   "outputs": [],
   "source": [
    "from feature_format import featureFormat, targetFeatureSplit\n",
    "from tester import dump_classifier_and_data, test_classifier\n",
    "from util import create_email_features, create_binary_missing_features"
   ]
  },
  {
   "cell_type": "code",
   "execution_count": 6,
   "metadata": {
    "collapsed": true
   },
   "outputs": [],
   "source": [
    "target_label = 'poi'\n",
    "\n",
    "email_features = ['to_messages',\n",
    "                  'from_messages',\n",
    "                  'from_this_person_to_poi',\n",
    "                  'from_poi_to_this_person',\n",
    "                  'shared_receipt_with_poi']\n",
    "\n",
    "finance_features = ['salary',\n",
    "                    'deferral_payments',\n",
    "                    'total_payments',\n",
    "                    'exercised_stock_options',\n",
    "                    'bonus',\n",
    "                    'restricted_stock',\n",
    "                    'restricted_stock_deferred',\n",
    "                    'total_stock_value',\n",
    "                    'expenses',\n",
    "                    'loan_advances',\n",
    "                    'other',\n",
    "                    'director_fees',\n",
    "                    'deferred_income',\n",
    "                    'long_term_incentive']\n",
    "\n",
    "features_list = email_features + finance_features"
   ]
  },
  {
   "cell_type": "code",
   "execution_count": 7,
   "metadata": {
    "collapsed": false
   },
   "outputs": [],
   "source": [
    "with open(\"final_project/final_project_dataset.pkl\", \"r\") as data_file:\n",
    "    data_dict = pickle.load(data_file)"
   ]
  },
  {
   "cell_type": "markdown",
   "metadata": {},
   "source": [
    "#### Outlier Removal"
   ]
  },
  {
   "cell_type": "code",
   "execution_count": 8,
   "metadata": {
    "collapsed": false
   },
   "outputs": [],
   "source": [
    "outliers = ['TOTAL', 'THE TRAVEL AGENCY IN THE PARK']\n",
    "\n",
    "for outlier in outliers:\n",
    "    data_dict.pop(outlier, 0)"
   ]
  },
  {
   "cell_type": "markdown",
   "metadata": {},
   "source": [
    "#### Feature Engineering"
   ]
  },
  {
   "cell_type": "code",
   "execution_count": 9,
   "metadata": {
    "collapsed": true
   },
   "outputs": [],
   "source": [
    "my_data = deepcopy(data_dict)"
   ]
  },
  {
   "cell_type": "code",
   "execution_count": 10,
   "metadata": {
    "collapsed": false
   },
   "outputs": [],
   "source": [
    "binary_features = create_binary_missing_features(my_data, features_list)"
   ]
  },
  {
   "cell_type": "code",
   "execution_count": 11,
   "metadata": {
    "collapsed": false
   },
   "outputs": [],
   "source": [
    "binary_features = list(binary_features)"
   ]
  },
  {
   "cell_type": "code",
   "execution_count": 12,
   "metadata": {
    "collapsed": false
   },
   "outputs": [],
   "source": [
    "features_list += binary_features"
   ]
  },
  {
   "cell_type": "code",
   "execution_count": 13,
   "metadata": {
    "collapsed": true
   },
   "outputs": [],
   "source": [
    "create_email_features(my_data, features_list)"
   ]
  },
  {
   "cell_type": "code",
   "execution_count": 14,
   "metadata": {
    "collapsed": false
   },
   "outputs": [],
   "source": [
    "features_list = [target_label] + features_list"
   ]
  },
  {
   "cell_type": "markdown",
   "metadata": {},
   "source": [
    "#### Data Preparation"
   ]
  },
  {
   "cell_type": "code",
   "execution_count": 15,
   "metadata": {
    "collapsed": false
   },
   "outputs": [],
   "source": [
    "data = featureFormat(my_data, features_list)"
   ]
  },
  {
   "cell_type": "code",
   "execution_count": 16,
   "metadata": {
    "collapsed": false
   },
   "outputs": [],
   "source": [
    "y, X = targetFeatureSplit(data)"
   ]
  },
  {
   "cell_type": "code",
   "execution_count": 17,
   "metadata": {
    "collapsed": true
   },
   "outputs": [],
   "source": [
    "X, y = np.array(X), np.array(y)"
   ]
  },
  {
   "cell_type": "code",
   "execution_count": 18,
   "metadata": {
    "collapsed": false
   },
   "outputs": [],
   "source": [
    "from sklearn.cross_validation import train_test_split\n",
    "\n",
    "X_train, X_test, y_train, y_test = train_test_split(X, y, test_size=0.2, stratify=y, random_state=42)"
   ]
  },
  {
   "cell_type": "markdown",
   "metadata": {},
   "source": [
    "#### First Model - Decision Tree Classifier\n",
    "\n",
    "In this section, I would like to start with a very simple Decision Tree based model since we do not require any kind of preprocessing the data in terms of scaling or selecting the features."
   ]
  },
  {
   "cell_type": "code",
   "execution_count": 19,
   "metadata": {
    "collapsed": false
   },
   "outputs": [
    {
     "name": "stdout",
     "output_type": "stream",
     "text": [
      "             precision    recall  f1-score   support\n",
      "\n",
      "        0.0       0.92      0.88      0.90        25\n",
      "        1.0       0.40      0.50      0.44         4\n",
      "\n",
      "avg / total       0.85      0.83      0.84        29\n",
      "\n"
     ]
    }
   ],
   "source": [
    "from sklearn.tree import DecisionTreeClassifier\n",
    "\n",
    "dt_clf = DecisionTreeClassifier(random_state=42)\n",
    "dt_clf.fit(X_train, y_train)\n",
    "print classification_report(y_test, dt_clf.predict(X_test))"
   ]
  },
  {
   "cell_type": "markdown",
   "metadata": {
    "collapsed": false
   },
   "source": [
    "As can be seen from the above classification report, it can be seen that the decision tree classifier is not able to classify the positive class as well as the negative class. However, since the dataset is small, there is a fair chance that this classifier would be overfitting and would have a lot of variance for different train and tet samples. In order to estimate the generalization capability, let us try parameter tuning and cross validation to gauge the performance of the model. Since, we want to optimize both the precision and recall score for our problem (data is imbalanced and hence, accuracy is not a good measure), we can use F1 score to evaluate our model as it combines precision and recall in harmonic mean.\n",
    "\n",
    "Also, we will optimize over below parameters:\n",
    "\n",
    "* criteria - Criteria for identifying the best feature for split.\n",
    "* max_depth - This is the maximum depth of the tree.\n",
    "* max_features - This is the number of features to be used for building the tree.\n",
    "* min_samples_leaf - This is the number of samples at a leaf node.\n",
    "* class_weight - Required as the data is imbalanced. We will use 'balanced' as our parameter."
   ]
  },
  {
   "cell_type": "code",
   "execution_count": 20,
   "metadata": {
    "collapsed": false
   },
   "outputs": [
    {
     "name": "stderr",
     "output_type": "stream",
     "text": [
      "C:\\Users\\Prasun Srivastava\\Anaconda2\\lib\\site-packages\\sklearn\\metrics\\classification.py:1074: UndefinedMetricWarning: F-score is ill-defined and being set to 0.0 in labels with no predicted samples.\n",
      "  'precision', 'predicted', average, warn_for)\n"
     ]
    },
    {
     "name": "stdout",
     "output_type": "stream",
     "text": [
      "             precision    recall  f1-score   support\n",
      "\n",
      "        0.0       0.92      0.88      0.90        25\n",
      "        1.0       0.40      0.50      0.44         4\n",
      "\n",
      "avg / total       0.85      0.83      0.84        29\n",
      "\n"
     ]
    }
   ],
   "source": [
    "dt_clf = DecisionTreeClassifier(random_state=42)\n",
    "\n",
    "criteria = ['gini', 'entropy']\n",
    "max_depth = [1, 3, 5, 7]\n",
    "max_features = [5, 6, 10, 20, len(features_list)-1]\n",
    "min_samples_leaf = [1, 3, 5]\n",
    "class_weight = ['balanced']\n",
    "\n",
    "param_grid = {'criterion': criteria,\n",
    "              'max_depth': max_depth,\n",
    "              'max_features': max_features,\n",
    "              'min_samples_leaf': min_samples_leaf,\n",
    "              'class_weight': class_weight}\n",
    "\n",
    "estimator_dt = GridSearchCV(dt_clf, param_grid, cv=5, scoring='f1_macro')\n",
    "\n",
    "estimator_dt.fit(X_train, y_train)\n",
    "\n",
    "dt_predictions = estimator_dt.predict(X_test)\n",
    "\n",
    "print classification_report(y_test, dt_predictions)"
   ]
  },
  {
   "cell_type": "markdown",
   "metadata": {},
   "source": [
    "As can be seen from the above classification report, it seems as if the best decision tree estimator obtained has a higher precision but lower recall. Let us try to see how the different parameters affect the training and cross validation score individually."
   ]
  },
  {
   "cell_type": "code",
   "execution_count": 21,
   "metadata": {
    "collapsed": false
   },
   "outputs": [],
   "source": [
    "from sklearn.learning_curve import learning_curve, validation_curve\n",
    "\n",
    "def plot_validation_curve(parameter_values, train_scores, validation_scores):\n",
    "    train_scores_mean = np.mean(train_scores, axis=1)\n",
    "    train_scores_std = np.std(train_scores, axis=1)\n",
    "    validation_scores_mean = np.mean(validation_scores, axis=1)\n",
    "    validation_scores_std = np.std(validation_scores, axis=1)\n",
    "\n",
    "    plt.fill_between(parameter_values, train_scores_mean - train_scores_std,\n",
    "                     train_scores_mean + train_scores_std, alpha=0.1,\n",
    "                     color=\"r\")\n",
    "    plt.fill_between(parameter_values, validation_scores_mean - validation_scores_std,\n",
    "                     validation_scores_mean + validation_scores_std, alpha=0.1, color=\"g\")\n",
    "    plt.plot(parameter_values, train_scores_mean, 'o-', color=\"r\",\n",
    "             label=\"Training score\")\n",
    "    plt.plot(parameter_values, validation_scores_mean, 'o-', color=\"g\",\n",
    "             label=\"Cross-validation score\")\n",
    "    plt.ylim(validation_scores_mean.min() - .1, train_scores_mean.max() + .1)\n",
    "    plt.legend(loc=\"best\")"
   ]
  },
  {
   "cell_type": "code",
   "execution_count": 22,
   "metadata": {
    "collapsed": false
   },
   "outputs": [
    {
     "data": {
      "image/png": "[encoded data removed]",
      "text/plain": [
       "<matplotlib.figure.Figure at 0x8d33f98>"
      ]
     },
     "metadata": {},
     "output_type": "display_data"
    }
   ],
   "source": [
    "figure = plt.figure(figsize=(15, 5))\n",
    "for i, param in enumerate(['max_depth', 'min_samples_leaf', 'max_features']):\n",
    "    training_scores, validation_scores = validation_curve(DecisionTreeClassifier(random_state=42,\n",
    "                                                                                 class_weight='balanced'),\n",
    "                                                          X_train, y_train,\n",
    "                                                          param_name = param,\n",
    "                                                          param_range = param_grid[param],\n",
    "                                                          cv=5)\n",
    "    \n",
    "    figure.add_subplot(1, 3, i+1)\n",
    "    plt.title(param)\n",
    "    plot_validation_curve(param_grid[param], training_scores, validation_scores)"
   ]
  },
  {
   "cell_type": "markdown",
   "metadata": {},
   "source": [
    "As can be seen from the above plots, none of the parameters are able to generalize and there is a huge amount of variance in the validation scores as seen from the standard deviation of the score. In order to reduce this variance, let us try to build a Random Forest model."
   ]
  },
  {
   "cell_type": "markdown",
   "metadata": {},
   "source": [
    "#### Random Forest Classifer"
   ]
  },
  {
   "cell_type": "code",
   "execution_count": 23,
   "metadata": {
    "collapsed": false
   },
   "outputs": [
    {
     "name": "stdout",
     "output_type": "stream",
     "text": [
      "             precision    recall  f1-score   support\n",
      "\n",
      "        0.0       0.89      1.00      0.94        25\n",
      "        1.0       1.00      0.25      0.40         4\n",
      "\n",
      "avg / total       0.91      0.90      0.87        29\n",
      "\n"
     ]
    }
   ],
   "source": [
    "from sklearn.ensemble import RandomForestClassifier\n",
    "\n",
    "rf = RandomForestClassifier(n_estimators=10,\n",
    "                            random_state=42)\n",
    "\n",
    "rf.fit(X_train, y_train)\n",
    "\n",
    "print classification_report(y_test, rf.predict(X_test))"
   ]
  },
  {
   "cell_type": "markdown",
   "metadata": {
    "collapsed": false
   },
   "source": [
    "Here, again, the random forest model has also precision and recall 0. However, let us try to tune the model and cross-validate the results."
   ]
  },
  {
   "cell_type": "code",
   "execution_count": 24,
   "metadata": {
    "collapsed": false
   },
   "outputs": [
    {
     "name": "stdout",
     "output_type": "stream",
     "text": [
      "             precision    recall  f1-score   support\n",
      "\n",
      "        0.0       0.87      0.80      0.83        25\n",
      "        1.0       0.17      0.25      0.20         4\n",
      "\n",
      "avg / total       0.77      0.72      0.75        29\n",
      "\n"
     ]
    }
   ],
   "source": [
    "rf_model= RandomForestClassifier(class_weight='balanced', random_state=999)\n",
    "\n",
    "num_estimators = [5, 10, 20, 50]\n",
    "leaf_size = [1, 3, 5]\n",
    "max_features = [5, 6, 10, 20]\n",
    "param_grid = {'n_estimators': num_estimators,\n",
    "              'max_features': max_features,\n",
    "              'min_samples_leaf':leaf_size}\n",
    "\n",
    "rf_estimator = GridSearchCV(rf_model, param_grid, scoring=\"f1_macro\", cv=10)\n",
    "\n",
    "rf_estimator.fit(X_train, y_train)\n",
    "\n",
    "print classification_report(y_test, rf_estimator.predict(X_test))"
   ]
  },
  {
   "cell_type": "markdown",
   "metadata": {},
   "source": [
    "As we can see, the random forest model is working just okay. Let us check the best parameters for the model."
   ]
  },
  {
   "cell_type": "code",
   "execution_count": 25,
   "metadata": {
    "collapsed": false
   },
   "outputs": [
    {
     "data": {
      "text/plain": [
       "{'max_features': 6, 'min_samples_leaf': 5, 'n_estimators': 20}"
      ]
     },
     "execution_count": 25,
     "metadata": {},
     "output_type": "execute_result"
    }
   ],
   "source": [
    "rf_estimator.best_params_"
   ]
  },
  {
   "cell_type": "markdown",
   "metadata": {},
   "source": [
    "Let us plot the learning curve for the model and see if the model has converged or it could have performed well with more data."
   ]
  },
  {
   "cell_type": "code",
   "execution_count": 26,
   "metadata": {
    "collapsed": true
   },
   "outputs": [],
   "source": [
    "def plot_learning_curve(train_sizes, train_scores, validation_scores):\n",
    "    train_scores_mean = np.mean(train_scores, axis=1)\n",
    "    train_scores_std = np.std(train_scores, axis=1)\n",
    "    validation_scores_mean = np.mean(validation_scores, axis=1)\n",
    "    validation_scores_std = np.std(validation_scores, axis=1)\n",
    "\n",
    "    plt.fill_between(train_sizes, train_scores_mean - train_scores_std,\n",
    "                     train_scores_mean + train_scores_std, alpha=0.1,\n",
    "                     color=\"r\")\n",
    "    plt.fill_between(train_sizes, validation_scores_mean - validation_scores_std,\n",
    "                     validation_scores_mean + validation_scores_std, alpha=0.1, color=\"g\")\n",
    "    plt.plot(train_sizes, train_scores_mean, 'o-', color=\"r\",\n",
    "             label=\"Training score\")\n",
    "    plt.plot(train_sizes, validation_scores_mean, 'o-', color=\"g\",\n",
    "             label=\"Cross-validation score\")\n",
    "    plt.ylim(max(-3, validation_scores_mean.min() - .1), train_scores_mean.max() + .1)\n",
    "    plt.legend(loc=\"best\")"
   ]
  },
  {
   "cell_type": "code",
   "execution_count": 27,
   "metadata": {
    "collapsed": false
   },
   "outputs": [
    {
     "data": {
      "image/png": "[encoded data removed]",
      "text/plain": [
       "<matplotlib.figure.Figure at 0x9e7ed30>"
      ]
     },
     "metadata": {},
     "output_type": "display_data"
    }
   ],
   "source": [
    "training_sizes, training_score, validation_score = learning_curve(RandomForestClassifier(class_weight='balanced',\n",
    "                                                                max_features=rf_estimator.best_params_['max_features'],\n",
    "                                                                min_samples_leaf=rf_estimator.best_params_['min_samples_leaf'],\n",
    "                                                                n_estimators=rf_estimator.best_params_['n_estimators']), \n",
    "                                                              X_train, y_train, cv=5)\n",
    "\n",
    "plot_learning_curve(training_sizes, training_score, validation_score)"
   ]
  },
  {
   "cell_type": "markdown",
   "metadata": {},
   "source": [
    "As we can see that there is a huge gap between the training and cross-validation score, we could do much better with more data. However, we do not have an option for the same. Let us check the top 10 predictors for our random forest model"
   ]
  },
  {
   "cell_type": "code",
   "execution_count": 28,
   "metadata": {
    "collapsed": false
   },
   "outputs": [
    {
     "name": "stdout",
     "output_type": "stream",
     "text": [
      "bonus : 0.157060369518\n",
      "expenses : 0.133966247938\n",
      "total_payments : 0.0825256529672\n",
      "shared_receipt_with_poi : 0.0718387038758\n",
      "other : 0.0696056718957\n",
      "to_messages : 0.0522401221852\n",
      "deferred_income : 0.049280099791\n",
      "long_term_incentive : 0.0488999013762\n",
      "from_messages : 0.0438084864194\n",
      "total_stock_value : 0.0407910164488\n"
     ]
    }
   ],
   "source": [
    "# identify the indices for the sorted feature importance\n",
    "idx = np.argsort(rf_estimator.best_estimator_.feature_importances_)\n",
    "idx = idx[::-1] # sort in descending order by reversing the ascending order sorted list\n",
    "idx = idx[:10] # pick only top 10\n",
    "features = features_list[1:]\n",
    "for feature, importance in zip(np.array(features)[idx], rf_estimator.best_estimator_.feature_importances_[idx]):\n",
    "    print feature, ':', importance"
   ]
  },
  {
   "cell_type": "markdown",
   "metadata": {},
   "source": [
    "Next, let us try a logistic regression model. Since, logistic regression models belong to linear models and are fairly fast to train, we are going to attemp the cross-validated hyperparameter tuning directly. Also, we will try to select features based on two feature selection methods:\n",
    "\n",
    "- SelectKBest\n",
    "- Based on Random Forest Feature importance"
   ]
  },
  {
   "cell_type": "code",
   "execution_count": 29,
   "metadata": {
    "collapsed": false
   },
   "outputs": [
    {
     "name": "stderr",
     "output_type": "stream",
     "text": [
      "C:\\Users\\Prasun Srivastava\\Anaconda2\\lib\\site-packages\\sklearn\\feature_selection\\univariate_selection.py:113: UserWarning: Features [14 27] are constant.\n",
      "  UserWarning)\n",
      "C:\\Users\\Prasun Srivastava\\Anaconda2\\lib\\site-packages\\sklearn\\feature_selection\\univariate_selection.py:114: RuntimeWarning: invalid value encountered in divide\n",
      "  f = msb / msw\n"
     ]
    },
    {
     "name": "stdout",
     "output_type": "stream",
     "text": [
      "             precision    recall  f1-score   support\n",
      "\n",
      "        0.0       0.84      0.64      0.73        25\n",
      "        1.0       0.10      0.25      0.14         4\n",
      "\n",
      "avg / total       0.74      0.59      0.65        29\n",
      "\n",
      "\n",
      "{'selectkbest__k': 'all', 'logisticregression__penalty': 'l1', 'logisticregression__C': 1}\n"
     ]
    }
   ],
   "source": [
    "# Logistic Regression with SelectKBest as the feature Selector\n",
    "\n",
    "pipe_selectk_lr = make_pipeline(StandardScaler(),\n",
    "                                SelectKBest(),\n",
    "                                LogisticRegression(random_state=42, class_weight='balanced'))\n",
    "\n",
    "C = [10**num for num in range(-6, 6)]\n",
    "param_grid_selectk = {'selectkbest__k': [5, 6, 10, 12, 15, 20, \"all\"],\n",
    "                      'logisticregression__C':C, \n",
    "                      'logisticregression__penalty':['l2', 'l1']}\n",
    "\n",
    "estimator_selectk_lr = GridSearchCV(pipe_selectk_lr, param_grid_selectk, cv=10, scoring='f1_macro')\n",
    "\n",
    "estimator_selectk_lr.fit(X_train, y_train)\n",
    "\n",
    "print classification_report(y_test, estimator_selectk_lr.predict(X_test))\n",
    "print\n",
    "print estimator_selectk_lr.best_params_"
   ]
  },
  {
   "cell_type": "code",
   "execution_count": 30,
   "metadata": {
    "collapsed": false
   },
   "outputs": [
    {
     "name": "stdout",
     "output_type": "stream",
     "text": [
      "             precision    recall  f1-score   support\n",
      "\n",
      "        0.0       0.90      0.72      0.80        25\n",
      "        1.0       0.22      0.50      0.31         4\n",
      "\n",
      "avg / total       0.81      0.69      0.73        29\n",
      "\n",
      "\n",
      "{'selectfrommodel__threshold': 'median', 'logisticregression__penalty': 'l1', 'logisticregression__C': 10, 'selectfrommodel__estimator__n_estimators': 10, 'selectfrommodel__estimator__max_features': 10, 'selectfrommodel__estimator__min_samples_leaf': 1}\n"
     ]
    }
   ],
   "source": [
    "# logistic regression with random forest as a feature selector\n",
    "\n",
    "pipe_rf_lr = make_pipeline(StandardScaler(),\n",
    "                           SelectFromModel(RandomForestClassifier(class_weight='balanced', random_state=2016)),\n",
    "                           LogisticRegression(random_state=42, class_weight='balanced'))\n",
    "\n",
    "C = [10**num for num in range(-6, 6)]\n",
    "num_estimators = [5, 10, 20, 50]\n",
    "leaf_size = [1, 3, 5]\n",
    "max_features = [5, 6, 10, 20]\n",
    "\n",
    "param_grid_rf = {'selectfrommodel__threshold': [\"mean\", \"median\", \"1.25*mean\"],\n",
    "                 'selectfrommodel__estimator__n_estimators':num_estimators,\n",
    "                 'selectfrommodel__estimator__max_features':max_features,\n",
    "                 'selectfrommodel__estimator__min_samples_leaf':leaf_size,\n",
    "                 'logisticregression__C':C, \n",
    "                 'logisticregression__penalty':['l2', 'l1']}\n",
    "\n",
    "estimator_rf_lr = GridSearchCV(pipe_rf_lr, param_grid_rf, cv=3, scoring='f1_macro', n_jobs=3)\n",
    "\n",
    "estimator_rf_lr.fit(X_train, y_train)\n",
    "\n",
    "print classification_report(y_test, estimator_rf_lr.predict(X_test))\n",
    "print\n",
    "print estimator_rf_lr.best_params_"
   ]
  },
  {
   "cell_type": "markdown",
   "metadata": {},
   "source": [
    "As we can see, the random forest based feature selection along with the logistic regression is working better than the `SelectKBest`, we are going to use this model further. Next, we find out the features selected according to the random forest feature importances."
   ]
  },
  {
   "cell_type": "code",
   "execution_count": 31,
   "metadata": {
    "collapsed": false
   },
   "outputs": [
    {
     "data": {
      "text/plain": [
       "array(['to_messages', 'from_messages', 'from_this_person_to_poi',\n",
       "       'from_poi_to_this_person', 'shared_receipt_with_poi', 'salary',\n",
       "       'deferral_payments', 'total_payments', 'exercised_stock_options',\n",
       "       'bonus', 'restricted_stock', 'total_stock_value', 'expenses',\n",
       "       'other', 'deferred_income', 'long_term_incentive', 'missing_bonus',\n",
       "       'missing_exercised_stock_options', 'missing_to_messages',\n",
       "       'interaction_with_poi'], \n",
       "      dtype='|S33')"
      ]
     },
     "execution_count": 31,
     "metadata": {},
     "output_type": "execute_result"
    }
   ],
   "source": [
    "# Identify the features selected\n",
    "selector = estimator_rf_lr.best_estimator_.named_steps['selectfrommodel']\n",
    "np.array(features_list[1:])[selector.estimator_.feature_importances_ >= selector.threshold_]"
   ]
  },
  {
   "cell_type": "markdown",
   "metadata": {},
   "source": [
    "Next, we are going to prepare the data with these features now and then try to cross validate the results again with the Logistic Regression Parameters tuned by grid search earlier."
   ]
  },
  {
   "cell_type": "code",
   "execution_count": 32,
   "metadata": {
    "collapsed": false
   },
   "outputs": [
    {
     "name": "stdout",
     "output_type": "stream",
     "text": [
      "Cross-Validated Average Precision: 0.46\n",
      "Cross-Validated Average Recall: 0.55 \n",
      "\n",
      "             precision    recall  f1-score   support\n",
      "\n",
      "        0.0       0.89      0.96      0.92        25\n",
      "        1.0       0.50      0.25      0.33         4\n",
      "\n",
      "avg / total       0.84      0.86      0.84        29\n",
      "\n"
     ]
    }
   ],
   "source": [
    "selected_features = ['poi',\n",
    "                     'to_messages',\n",
    "                     'from_messages',\n",
    "                     'from_this_person_to_poi',\n",
    "                     'from_poi_to_this_person',\n",
    "                     'shared_receipt_with_poi',\n",
    "                     'salary',\n",
    "                     'deferral_payments', \n",
    "                     'total_payments', \n",
    "                     'exercised_stock_options',\n",
    "                     'bonus', \n",
    "                     'restricted_stock', \n",
    "                     'total_stock_value', \n",
    "                     'expenses',\n",
    "                     'other', \n",
    "                     'deferred_income', \n",
    "                     'long_term_incentive', \n",
    "                     'missing_bonus',\n",
    "                     'missing_exercised_stock_options', \n",
    "                     'missing_to_messages',\n",
    "                     'interaction_with_poi']\n",
    "\n",
    "data_selected = featureFormat(my_data, selected_features, sort_keys=True)\n",
    "\n",
    "labels, features = targetFeatureSplit(data_selected)\n",
    "labels, features = np.array(labels), np.array(features)\n",
    "\n",
    "\n",
    "features_train, features_test, labels_train, labels_test = train_test_split(features, \n",
    "                                                                            labels,\n",
    "                                                                            test_size=0.2,\n",
    "                                                                            stratify=labels, \n",
    "                                                                            random_state=42)\n",
    "\n",
    "lr = make_pipeline(StandardScaler(),\n",
    "                   LogisticRegression(penalty='l1', C=10, class_weight='balanced', random_state=42))\n",
    "\n",
    "folds = StratifiedKFold(labels_train, n_folds=10, shuffle=True, random_state=42)\n",
    "\n",
    "precision = []\n",
    "recall = []\n",
    "\n",
    "for train_idx, test_idx in folds:\n",
    "    \n",
    "    train_X = features_train[train_idx]\n",
    "    train_y = labels_train[train_idx]\n",
    "    test_X = features_train[test_idx]\n",
    "    test_y = labels_train[test_idx]\n",
    "\n",
    "    lr.fit(train_X, train_y)\n",
    "    pred = lr.predict(test_X)\n",
    "    \n",
    "    precision.append(precision_score(test_y, pred))\n",
    "    recall.append(recall_score(test_y, pred))\n",
    "\n",
    "print \"Cross-Validated Average Precision:\", round(np.mean(precision), 2)\n",
    "print \"Cross-Validated Average Recall:\", round(np.mean(recall), 2), \"\\n\"\n",
    "\n",
    "# fit the model on whole data\n",
    "lr.fit(features_train, labels_train)\n",
    "\n",
    "# evaluate\n",
    "print classification_report(labels_test, lr.predict(features_test))"
   ]
  },
  {
   "cell_type": "code",
   "execution_count": 33,
   "metadata": {
    "collapsed": false
   },
   "outputs": [
    {
     "name": "stdout",
     "output_type": "stream",
     "text": [
      "Pipeline(steps=[('standardscaler', StandardScaler(copy=True, with_mean=True, with_std=True)), ('logisticregression', LogisticRegression(C=10, class_weight='balanced', dual=False,\n",
      "          fit_intercept=True, intercept_scaling=1, max_iter=100,\n",
      "          multi_class='ovr', n_jobs=1, penalty='l1', random_state=42,\n",
      "          solver='liblinear', tol=0.0001, verbose=0, warm_start=False))])\n",
      "\tAccuracy: 0.81033\tPrecision: 0.37091\tRecall: 0.60700\tF1: 0.46046\tF2: 0.53845\n",
      "\tTotal predictions: 15000\tTrue positives: 1214\tFalse positives: 2059\tFalse negatives:  786\tTrue negatives: 10941\n",
      "\n"
     ]
    }
   ],
   "source": [
    "test_classifier(lr, my_data, selected_features, folds=1000)"
   ]
  }
 ],
 "metadata": {
  "kernelspec": {
   "display_name": "Python [Root]",
   "language": "python",
   "name": "Python [Root]"
  },
  "language_info": {
   "codemirror_mode": {
    "name": "ipython",
    "version": 2
   },
   "file_extension": ".py",
   "mimetype": "text/x-python",
   "name": "python",
   "nbconvert_exporter": "python",
   "pygments_lexer": "ipython2",
   "version": "2.7.12"
  }
 },
 "nbformat": 4,
 "nbformat_minor": 0
}

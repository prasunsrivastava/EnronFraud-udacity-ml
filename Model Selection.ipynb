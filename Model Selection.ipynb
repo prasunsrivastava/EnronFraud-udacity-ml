{
 "cells": [
  {
   "cell_type": "code",
   "execution_count": 1,
   "metadata": {
    "collapsed": true
   },
   "outputs": [],
   "source": [
    "import numpy as np\n",
    "import matplotlib.pyplot as plt\n",
    "import sys\n",
    "import pickle\n",
    "import matplotlib.pyplot as plt\n",
    "%matplotlib inline"
   ]
  },
  {
   "cell_type": "code",
   "execution_count": 2,
   "metadata": {
    "collapsed": false
   },
   "outputs": [],
   "source": [
    "from sklearn.linear_model import LogisticRegression\n",
    "from sklearn.metrics import precision_score, recall_score, f1_score, confusion_matrix, classification_report\n",
    "from sklearn.grid_search import GridSearchCV\n",
    "from sklearn.preprocessing import StandardScaler\n",
    "from sklearn.pipeline import Pipeline, make_pipeline\n",
    "from sklearn.feature_selection import SelectKBest, chi2\n",
    "from sklearn.metrics import make_scorer"
   ]
  },
  {
   "cell_type": "code",
   "execution_count": 3,
   "metadata": {
    "collapsed": false
   },
   "outputs": [],
   "source": [
    "from copy import deepcopy"
   ]
  },
  {
   "cell_type": "code",
   "execution_count": 4,
   "metadata": {
    "collapsed": true
   },
   "outputs": [],
   "source": [
    "sys.path.append(\"./tools\")\n",
    "sys.path.append(\"./final_project\")"
   ]
  },
  {
   "cell_type": "code",
   "execution_count": 5,
   "metadata": {
    "collapsed": false
   },
   "outputs": [],
   "source": [
    "from feature_format import featureFormat, targetFeatureSplit\n",
    "from tester import dump_classifier_and_data, test_classifier\n",
    "from util import create_email_features, create_binary_missing_features"
   ]
  },
  {
   "cell_type": "code",
   "execution_count": 6,
   "metadata": {
    "collapsed": false
   },
   "outputs": [],
   "source": [
    "with open(\"final_project/final_project_dataset.pkl\", \"r\") as data_file:\n",
    "    data_dict = pickle.load(data_file)"
   ]
  },
  {
   "cell_type": "code",
   "execution_count": 7,
   "metadata": {
    "collapsed": true
   },
   "outputs": [],
   "source": [
    "target_label = 'poi'\n",
    "\n",
    "email_features = ['to_messages',\n",
    "                  'from_messages',\n",
    "                  'from_this_person_to_poi',\n",
    "                  'from_poi_to_this_person',\n",
    "                  'shared_receipt_with_poi']\n",
    "\n",
    "finance_features = ['salary',\n",
    "                    'deferral_payments',\n",
    "                    'total_payments',\n",
    "                    'exercised_stock_options',\n",
    "                    'bonus',\n",
    "                    'restricted_stock',\n",
    "                    'restricted_stock_deferred',\n",
    "                    'total_stock_value',\n",
    "                    'expenses',\n",
    "                    'loan_advances',\n",
    "                    'other',\n",
    "                    'director_fees',\n",
    "                    'deferred_income',\n",
    "                    'long_term_incentive']"
   ]
  },
  {
   "cell_type": "code",
   "execution_count": 8,
   "metadata": {
    "collapsed": true
   },
   "outputs": [],
   "source": [
    "my_data = deepcopy(data_dict)\n",
    "features_list = email_features + finance_features"
   ]
  },
  {
   "cell_type": "code",
   "execution_count": 9,
   "metadata": {
    "collapsed": false
   },
   "outputs": [],
   "source": [
    "binary_features = create_binary_missing_features(my_data, features_list)"
   ]
  },
  {
   "cell_type": "code",
   "execution_count": 10,
   "metadata": {
    "collapsed": false
   },
   "outputs": [],
   "source": [
    "binary_features = list(binary_features)"
   ]
  },
  {
   "cell_type": "code",
   "execution_count": 11,
   "metadata": {
    "collapsed": false
   },
   "outputs": [],
   "source": [
    "features_list += binary_features"
   ]
  },
  {
   "cell_type": "code",
   "execution_count": 12,
   "metadata": {
    "collapsed": true
   },
   "outputs": [],
   "source": [
    "create_email_features(my_data, features_list)"
   ]
  },
  {
   "cell_type": "code",
   "execution_count": 13,
   "metadata": {
    "collapsed": false
   },
   "outputs": [],
   "source": [
    "features_list = [target_label] + features_list"
   ]
  },
  {
   "cell_type": "markdown",
   "metadata": {},
   "source": [
    "#### Outlier Removal"
   ]
  },
  {
   "cell_type": "code",
   "execution_count": 14,
   "metadata": {
    "collapsed": false
   },
   "outputs": [],
   "source": [
    "outliers = ['TOTAL', 'THE TRAVEL AGENCY IN THE PARK']\n",
    "\n",
    "for outlier in outliers:\n",
    "    my_data.pop(outlier, 0)"
   ]
  },
  {
   "cell_type": "markdown",
   "metadata": {},
   "source": [
    "#### Data Preparation"
   ]
  },
  {
   "cell_type": "code",
   "execution_count": 15,
   "metadata": {
    "collapsed": false
   },
   "outputs": [],
   "source": [
    "data = featureFormat(my_data, features_list)"
   ]
  },
  {
   "cell_type": "code",
   "execution_count": 16,
   "metadata": {
    "collapsed": false
   },
   "outputs": [],
   "source": [
    "y, X = targetFeatureSplit(data)"
   ]
  },
  {
   "cell_type": "code",
   "execution_count": 17,
   "metadata": {
    "collapsed": false
   },
   "outputs": [],
   "source": [
    "from sklearn.cross_validation import train_test_split\n",
    "\n",
    "X_train, X_test, y_train, y_test = train_test_split(X, y, test_size=0.2, stratify=y, random_state=42)"
   ]
  },
  {
   "cell_type": "markdown",
   "metadata": {},
   "source": [
    "#### First Model - Decision Tree Classifier\n",
    "\n",
    "In this section, I would like to start with a very simple Decision Tree based model since we do not require any kind of preprocessing the data in terms of scaling or selecting the features."
   ]
  },
  {
   "cell_type": "code",
   "execution_count": 18,
   "metadata": {
    "collapsed": false
   },
   "outputs": [
    {
     "name": "stdout",
     "output_type": "stream",
     "text": [
      "             precision    recall  f1-score   support\n",
      "\n",
      "        0.0       0.91      0.80      0.85        25\n",
      "        1.0       0.29      0.50      0.36         4\n",
      "\n",
      "avg / total       0.82      0.76      0.78        29\n",
      "\n"
     ]
    }
   ],
   "source": [
    "from sklearn.tree import DecisionTreeClassifier\n",
    "\n",
    "dt_clf = DecisionTreeClassifier(random_state=2016)\n",
    "dt_clf.fit(X_train, y_train)\n",
    "print classification_report(y_test, dt_clf.predict(X_test))"
   ]
  },
  {
   "cell_type": "markdown",
   "metadata": {
    "collapsed": false
   },
   "source": [
    "As can be seen from the above classification report, it can be seen that the decision tree classifier is working pretty well straight out of the box. However, since the dataset is small, there is a fair chance that this classifier would be overfitting and would have a lot of variance for different train and tet samples. In order to estimate the generalization capability, let us try parameter tuning and cross validation to gauge the performance of the model. Since, we want to optimize both the precision and recall score for our problem (data is imbalanced and hence, accuracy is not a good measure), we can use F1 score to evaluate our model as it combines precision and recall in harmonic mean.\n",
    "\n",
    "Also, we will optimize over below parameters:\n",
    "\n",
    "* criteria - Criteria for identifying the best feature for split.\n",
    "* max_depth - This is the maximum depth of the tree.\n",
    "* max_features - This is the number of features to be used for building the tree.\n",
    "* min_samples_leaf - This is the number of samples at a leaf node.\n",
    "* class_weight - Required as the data is imbalanced. We will use 'balanced' as our parameter."
   ]
  },
  {
   "cell_type": "code",
   "execution_count": 19,
   "metadata": {
    "collapsed": false
   },
   "outputs": [
    {
     "name": "stdout",
     "output_type": "stream",
     "text": [
      "             precision    recall  f1-score   support\n",
      "\n",
      "        0.0       0.83      0.80      0.82        25\n",
      "        1.0       0.00      0.00      0.00         4\n",
      "\n",
      "avg / total       0.72      0.69      0.70        29\n",
      "\n"
     ]
    }
   ],
   "source": [
    "dt_clf = DecisionTreeClassifier(random_state=2016)\n",
    "\n",
    "criteria = ['gini', 'entropy']\n",
    "max_depth = [1, 3, 5, 7]\n",
    "max_features = [5, 6, 10, 20, 39]\n",
    "min_samples_leaf = [1, 3, 5]\n",
    "class_weight = ['balanced']\n",
    "\n",
    "param_grid = {'criterion': criteria,\n",
    "              'max_depth': max_depth,\n",
    "              'max_features': max_features,\n",
    "              'min_samples_leaf': min_samples_leaf,\n",
    "              'class_weight': class_weight}\n",
    "\n",
    "estimator_dt = GridSearchCV(dt_clf, param_grid, cv=5)\n",
    "\n",
    "estimator_dt.fit(X_train, y_train)\n",
    "\n",
    "dt_predictions = estimator_dt.predict(X_test)\n",
    "\n",
    "print classification_report(y_test, dt_predictions)"
   ]
  },
  {
   "cell_type": "markdown",
   "metadata": {},
   "source": [
    "As can be seen from the above classification report, it seems as if the best decision tree estimator obtained has 0 precision and recall on the positive class and is trying to predict the most common class. Let us try to see how the different parameters affect the training and cross validation score individually."
   ]
  },
  {
   "cell_type": "code",
   "execution_count": 20,
   "metadata": {
    "collapsed": false
   },
   "outputs": [],
   "source": [
    "from sklearn.learning_curve import learning_curve, validation_curve\n",
    "\n",
    "def plot_validation_curve(parameter_values, train_scores, validation_scores):\n",
    "    train_scores_mean = np.mean(train_scores, axis=1)\n",
    "    train_scores_std = np.std(train_scores, axis=1)\n",
    "    validation_scores_mean = np.mean(validation_scores, axis=1)\n",
    "    validation_scores_std = np.std(validation_scores, axis=1)\n",
    "\n",
    "    plt.fill_between(parameter_values, train_scores_mean - train_scores_std,\n",
    "                     train_scores_mean + train_scores_std, alpha=0.1,\n",
    "                     color=\"r\")\n",
    "    plt.fill_between(parameter_values, validation_scores_mean - validation_scores_std,\n",
    "                     validation_scores_mean + validation_scores_std, alpha=0.1, color=\"g\")\n",
    "    plt.plot(parameter_values, train_scores_mean, 'o-', color=\"r\",\n",
    "             label=\"Training score\")\n",
    "    plt.plot(parameter_values, validation_scores_mean, 'o-', color=\"g\",\n",
    "             label=\"Cross-validation score\")\n",
    "    plt.ylim(validation_scores_mean.min() - .1, train_scores_mean.max() + .1)\n",
    "    plt.legend(loc=\"best\")"
   ]
  },
  {
   "cell_type": "code",
   "execution_count": 21,
   "metadata": {
    "collapsed": false
   },
   "outputs": [
    {
     "data": {
      "image/png": "[encoded data removed]",
      "text/plain": [
       "<matplotlib.figure.Figure at 0x8fb89e8>"
      ]
     },
     "metadata": {},
     "output_type": "display_data"
    }
   ],
   "source": [
    "figure = plt.figure(figsize=(15, 5))\n",
    "for i, param in enumerate(['max_depth', 'min_samples_leaf', 'max_features']):\n",
    "    training_scores, validation_scores = validation_curve(DecisionTreeClassifier(random_state=2016,\n",
    "                                                                                 class_weight='balanced'),\n",
    "                                                          X_train, y_train,\n",
    "                                                          param_name = param,\n",
    "                                                          param_range = param_grid[param],\n",
    "                                                          cv=5)\n",
    "    \n",
    "    figure.add_subplot(1, 3, i+1)\n",
    "    plt.title(param)\n",
    "    plot_validation_curve(param_grid[param], training_scores, validation_scores)"
   ]
  },
  {
   "cell_type": "markdown",
   "metadata": {},
   "source": [
    "As can be seen from the above plots, none of the parameters are able to generalize and there is a huge amount of variance in the validation scores as seen from the standard deviation of the score. In order to reduce this variance, let us try to build a Random Forest model."
   ]
  },
  {
   "cell_type": "markdown",
   "metadata": {},
   "source": [
    "#### Random Forest Classifer"
   ]
  },
  {
   "cell_type": "code",
   "execution_count": 22,
   "metadata": {
    "collapsed": false
   },
   "outputs": [
    {
     "name": "stdout",
     "output_type": "stream",
     "text": [
      "             precision    recall  f1-score   support\n",
      "\n",
      "        0.0       0.89      1.00      0.94        25\n",
      "        1.0       1.00      0.25      0.40         4\n",
      "\n",
      "avg / total       0.91      0.90      0.87        29\n",
      "\n"
     ]
    }
   ],
   "source": [
    "from sklearn.ensemble import RandomForestClassifier\n",
    "\n",
    "rf = RandomForestClassifier(n_estimators=10,\n",
    "                            random_state=42)\n",
    "\n",
    "rf.fit(X_train, y_train)\n",
    "\n",
    "print classification_report(y_test, rf.predict(X_test))"
   ]
  },
  {
   "cell_type": "markdown",
   "metadata": {
    "collapsed": false
   },
   "source": [
    "Random forest also works quite well out of the box. However, we would like to get a proper estimate of generalization and hence we will cross validate the results in this section as well as tune the model."
   ]
  },
  {
   "cell_type": "code",
   "execution_count": 23,
   "metadata": {
    "collapsed": false
   },
   "outputs": [
    {
     "name": "stderr",
     "output_type": "stream",
     "text": [
      "C:\\Users\\Prasun Srivastava\\Anaconda2\\lib\\site-packages\\sklearn\\metrics\\classification.py:1074: UndefinedMetricWarning: F-score is ill-defined and being set to 0.0 in labels with no predicted samples.\n",
      "  'precision', 'predicted', average, warn_for)\n"
     ]
    },
    {
     "name": "stdout",
     "output_type": "stream",
     "text": [
      "             precision    recall  f1-score   support\n",
      "\n",
      "        0.0       0.87      0.80      0.83        25\n",
      "        1.0       0.17      0.25      0.20         4\n",
      "\n",
      "avg / total       0.77      0.72      0.75        29\n",
      "\n"
     ]
    }
   ],
   "source": [
    "rf_model= RandomForestClassifier(class_weight='balanced', random_state=999)\n",
    "\n",
    "num_estimators = [5, 10, 20, 50]\n",
    "leaf_size = [1, 3, 5]\n",
    "max_features = [5, 6, 10, 20]\n",
    "param_grid = {'n_estimators': num_estimators,\n",
    "              'max_features': max_features,\n",
    "              'min_samples_leaf':leaf_size}\n",
    "\n",
    "rf_estimator = GridSearchCV(rf_model, param_grid, scoring=\"f1_macro\", cv=10)\n",
    "\n",
    "rf_estimator.fit(X_train, y_train)\n",
    "\n",
    "print classification_report(y_test, rf_estimator.predict(X_test))"
   ]
  },
  {
   "cell_type": "markdown",
   "metadata": {},
   "source": [
    "As we can see, the random forest model is working just okay. Let us check the best parameters for the model."
   ]
  },
  {
   "cell_type": "code",
   "execution_count": 24,
   "metadata": {
    "collapsed": false
   },
   "outputs": [
    {
     "data": {
      "text/plain": [
       "{'max_features': 6, 'min_samples_leaf': 5, 'n_estimators': 20}"
      ]
     },
     "execution_count": 24,
     "metadata": {},
     "output_type": "execute_result"
    }
   ],
   "source": [
    "rf_estimator.best_params_"
   ]
  },
  {
   "cell_type": "markdown",
   "metadata": {},
   "source": [
    "Let us plot the learning curve for the model and see if the model has converged or it could have performed well with more data."
   ]
  },
  {
   "cell_type": "code",
   "execution_count": 25,
   "metadata": {
    "collapsed": true
   },
   "outputs": [],
   "source": [
    "def plot_learning_curve(train_sizes, train_scores, validation_scores):\n",
    "    train_scores_mean = np.mean(train_scores, axis=1)\n",
    "    train_scores_std = np.std(train_scores, axis=1)\n",
    "    validation_scores_mean = np.mean(validation_scores, axis=1)\n",
    "    validation_scores_std = np.std(validation_scores, axis=1)\n",
    "\n",
    "    plt.fill_between(train_sizes, train_scores_mean - train_scores_std,\n",
    "                     train_scores_mean + train_scores_std, alpha=0.1,\n",
    "                     color=\"r\")\n",
    "    plt.fill_between(train_sizes, validation_scores_mean - validation_scores_std,\n",
    "                     validation_scores_mean + validation_scores_std, alpha=0.1, color=\"g\")\n",
    "    plt.plot(train_sizes, train_scores_mean, 'o-', color=\"r\",\n",
    "             label=\"Training score\")\n",
    "    plt.plot(train_sizes, validation_scores_mean, 'o-', color=\"g\",\n",
    "             label=\"Cross-validation score\")\n",
    "    plt.ylim(max(-3, validation_scores_mean.min() - .1), train_scores_mean.max() + .1)\n",
    "    plt.legend(loc=\"best\")"
   ]
  },
  {
   "cell_type": "code",
   "execution_count": 26,
   "metadata": {
    "collapsed": false
   },
   "outputs": [
    {
     "data": {
      "image/png": "[encoded data removed]",
      "text/plain": [
       "<matplotlib.figure.Figure at 0xa598da0>"
      ]
     },
     "metadata": {},
     "output_type": "display_data"
    }
   ],
   "source": [
    "training_sizes, training_score, validation_score = learning_curve(RandomForestClassifier(class_weight='balanced',\n",
    "                                                                                          max_features=10,\n",
    "                                                                                          min_samples_leaf=3,\n",
    "                                                                                          n_estimators=10), \n",
    "                                                                  X_train, y_train, cv=5)\n",
    "\n",
    "plot_learning_curve(training_sizes, training_score, validation_score)"
   ]
  },
  {
   "cell_type": "markdown",
   "metadata": {},
   "source": [
    "As we can see that there is a huge gap between the training and cross-validation score, we could do much better with more data. However, we do not have an option for the same. Let us check the top 10 predictors for our random forest model"
   ]
  },
  {
   "cell_type": "code",
   "execution_count": 29,
   "metadata": {
    "collapsed": false
   },
   "outputs": [
    {
     "name": "stdout",
     "output_type": "stream",
     "text": [
      "exercised_stock_options : 0.161407497158\n",
      "bonus : 0.139810149342\n",
      "total_stock_value : 0.126617773141\n",
      "total_payments : 0.126204052633\n",
      "expenses : 0.117620856131\n",
      "salary : 0.0675778634239\n",
      "from_poi_to_this_person : 0.0638182974988\n",
      "missing_deferred_income : 0.0534723020639\n",
      "from_this_person_to_poi : 0.050810397838\n",
      "from_messages : 0.0303346151772\n"
     ]
    }
   ],
   "source": [
    "# identify the indices for the sorted feature importance\n",
    "idx = np.argsort(rf_estimator.best_estimator_.feature_importances_)\n",
    "idx = idx[::-1] # sort in descending order by reversing the ascending order sorted list\n",
    "idx = idx[:10] # pick only top 10\n",
    "features = features_list[1:]\n",
    "for feature, importance in zip(np.array(features)[idx], rf_estimator.best_estimator_.feature_importances_[idx]):\n",
    "    print feature, ':', importance"
   ]
  },
  {
   "cell_type": "markdown",
   "metadata": {},
   "source": [
    "Next, let us try a logistic regression model. Since, logistic regression models belong to linear models and are fairly fast to train, we are going to attemp the cross-validated hyperparameter tuning directly."
   ]
  },
  {
   "cell_type": "code",
   "execution_count": 31,
   "metadata": {
    "collapsed": false
   },
   "outputs": [
    {
     "name": "stdout",
     "output_type": "stream",
     "text": [
      "             precision    recall  f1-score   support\n",
      "\n",
      "        0.0       0.95      0.76      0.84        25\n",
      "        1.0       0.33      0.75      0.46         4\n",
      "\n",
      "avg / total       0.86      0.76      0.79        29\n",
      "\n",
      "\n",
      "{'penalty': 'l1', 'C': 10000}\n"
     ]
    }
   ],
   "source": [
    "clf_lr = LogisticRegression(random_state=42, class_weight='balanced')\n",
    "\n",
    "C = [10**num for num in range(-6, 6)]\n",
    "param_grid = {'C':C, 'penalty':['l1', 'l2']}\n",
    "\n",
    "estimator_lr = GridSearchCV(clf_lr, param_grid, cv=10, scoring='f1_macro')\n",
    "\n",
    "estimator_lr.fit(X_train, y_train)\n",
    "\n",
    "print classification_report(y_test, estimator_lr.predict(X_test))\n",
    "print\n",
    "print estimator_lr.best_params_"
   ]
  },
  {
   "cell_type": "markdown",
   "metadata": {},
   "source": [
    "As we can see, the logistic regression model has a high precision and recall than the random forest model. Also, it has a higher overall F1 score than the random forest model. "
   ]
  },
  {
   "cell_type": "code",
   "execution_count": 32,
   "metadata": {
    "collapsed": false
   },
   "outputs": [
    {
     "name": "stdout",
     "output_type": "stream",
     "text": [
      "Features Not used in model:\n",
      "\n",
      "missing_total_stock_value\n",
      "missing_total_payments\n",
      "missing_other\n",
      "missing_salary\n",
      "missing_restricted_stock\n"
     ]
    }
   ],
   "source": [
    "print \"Features Not used in model:\\n\"\n",
    "for feature, coef in zip(features_list[1:], estimator_lr.best_estimator_.coef_[0]):\n",
    "    if coef == 0.0:\n",
    "        print feature"
   ]
  },
  {
   "cell_type": "markdown",
   "metadata": {},
   "source": [
    "Since, Logistic Regression Models are fairly easy to train and the model performance is quite at par with the random forest model that we trained, I am going to select the Logistic Regression model as my final model. "
   ]
  }
 ],
 "metadata": {
  "kernelspec": {
   "display_name": "Python [Root]",
   "language": "python",
   "name": "Python [Root]"
  },
  "language_info": {
   "codemirror_mode": {
    "name": "ipython",
    "version": 2
   },
   "file_extension": ".py",
   "mimetype": "text/x-python",
   "name": "python",
   "nbconvert_exporter": "python",
   "pygments_lexer": "ipython2",
   "version": "2.7.12"
  }
 },
 "nbformat": 4,
 "nbformat_minor": 0
}
